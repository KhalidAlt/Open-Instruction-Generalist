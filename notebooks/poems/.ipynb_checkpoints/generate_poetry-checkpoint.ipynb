{
 "cells": [
  {
   "cell_type": "markdown",
   "id": "1bbef692",
   "metadata": {},
   "source": [
    "## Imports"
   ]
  },
  {
   "cell_type": "code",
   "execution_count": 11,
   "id": "4094ea90",
   "metadata": {},
   "outputs": [],
   "source": [
    "from datasets import Dataset,load_dataset\n",
    "import json\n",
    "import pandas as pd"
   ]
  },
  {
   "cell_type": "markdown",
   "id": "5c56da17",
   "metadata": {},
   "source": [
    "## Load Datasets"
   ]
  },
  {
   "cell_type": "code",
   "execution_count": 2,
   "id": "12a7d844",
   "metadata": {},
   "outputs": [
    {
     "name": "stderr",
     "output_type": "stream",
     "text": [
      "Using custom data configuration merve--poetry-f27664155e5efc39\n",
      "Found cached dataset csv (/home/shahul/.cache/huggingface/datasets/merve___csv/merve--poetry-f27664155e5efc39/0.0.0/6b34fb8fcf56f7c8ba51dc895bfa2bfbe43546f190a60fcf74bb5e8afdcc2317)\n"
     ]
    },
    {
     "data": {
      "application/vnd.jupyter.widget-view+json": {
       "model_id": "c6c455ca06694ceb984e786093c5b425",
       "version_major": 2,
       "version_minor": 0
      },
      "text/plain": [
       "  0%|          | 0/1 [00:00<?, ?it/s]"
      ]
     },
     "metadata": {},
     "output_type": "display_data"
    }
   ],
   "source": [
    "merve = load_dataset(\"merve/poetry\")"
   ]
  },
  {
   "cell_type": "code",
   "execution_count": 43,
   "id": "322fa348",
   "metadata": {},
   "outputs": [],
   "source": [
    "poem_df = pd.read_csv(\"/home/shahul/Data/PoetryFoundationData.csv\")"
   ]
  },
  {
   "cell_type": "code",
   "execution_count": 44,
   "id": "fffb791e",
   "metadata": {},
   "outputs": [],
   "source": [
    "author_dict = poem_df['Poet'].value_counts().to_dict()\n",
    "poem_df[\"poems_counts\"] = poem_df[\"Poet\"].map(author_dict)"
   ]
  },
  {
   "cell_type": "code",
   "execution_count": 45,
   "id": "9607076e",
   "metadata": {},
   "outputs": [
    {
     "data": {
      "text/plain": [
       "(5581, 6)"
      ]
     },
     "execution_count": 45,
     "metadata": {},
     "output_type": "execute_result"
    }
   ],
   "source": [
    "poem_df = poem_df[poem_df[\"poems_counts\"]>10]\n",
    "poem_df = poem_df.rename({\"Poet\":\"author\",\"Poem\":\"content\",\n",
    "                \"Title\":'poem name',\"Tags\":\"type\"},axis=1)\n",
    "poem_df = poem_df[['poem name', 'content', 'author', 'type']]\n",
    "poem_df[\"age\"] = \"\"\n",
    "poems_dataset = Dataset.from_pandas(poem_df,split=\"train\")"
   ]
  },
  {
   "cell_type": "markdown",
   "id": "3414ece7",
   "metadata": {},
   "source": [
    "### Templates"
   ]
  },
  {
   "cell_type": "code",
   "execution_count": null,
   "id": "123dee30",
   "metadata": {},
   "outputs": [],
   "source": [
    "poem_synonyms = [\"poem\",\"poetry\"]\n",
    "compose_synonyms = [\"Write\",\"Help me write\", \"Compose\", \"Please craft\", \"Give me\"]\n",
    "complete = [\"Complete\", \"Finish\", \"Put the finishing touches to\"]\n"
   ]
  },
  {
   "cell_type": "code",
   "execution_count": null,
   "id": "8d0c753a",
   "metadata": {},
   "outputs": [],
   "source": [
    "prompts =\n",
    "[f\"{Compose} a {poem} entitled {title} in the {author}'s writing style.\",\n",
    " f\"{Compose} a {poem} on {title} in the manner of {author}.\", ## if title startswith \"The\"\n",
    " f\"{Compose} a {poem} about {title} in the manner of {author}.\", ## if title startswith \"The\"\n",
    " f\"{Compose} a {poem} containing {rhyming_words}.\",\n",
    " f\"{Compose} a {poem} containing {rhyming_words} in {author}'s writing style.\",\n",
    " f\"{Compose} a {poem} with the type {genre} written in {age}.\", \n",
    " f\"{Compose} a {poem} of the genre {genre} during the {age}.\n",
    " ## complete poem\n",
    " f\"{complete} the {poem}\",\n",
    " f\"{complete} the {poem} in {author}'s writing style\",\n",
    " f\"{complete} the {poem} entitled {title}\",\n",
    " \n",
    " \n",
    "]"
   ]
  },
  {
   "cell_type": "markdown",
   "id": "cab854c3",
   "metadata": {},
   "source": [
    "## Augmentation"
   ]
  },
  {
   "cell_type": "code",
   "execution_count": null,
   "id": "e98b0967",
   "metadata": {},
   "outputs": [],
   "source": []
  }
 ],
 "metadata": {
  "kernelspec": {
   "display_name": "OpenAssistant",
   "language": "python",
   "name": "openassistant"
  },
  "language_info": {
   "codemirror_mode": {
    "name": "ipython",
    "version": 3
   },
   "file_extension": ".py",
   "mimetype": "text/x-python",
   "name": "python",
   "nbconvert_exporter": "python",
   "pygments_lexer": "ipython3",
   "version": "3.10.8"
  }
 },
 "nbformat": 4,
 "nbformat_minor": 5
}
